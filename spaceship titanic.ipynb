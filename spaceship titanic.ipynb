{
 "cells": [
  {
   "cell_type": "code",
   "execution_count": 2,
   "id": "0fe9b2a8",
   "metadata": {},
   "outputs": [],
   "source": [
    "# Import libraries/dependencies\n",
    "\n",
    "import numpy as np\n",
    "import pandas as pd\n",
    "import seaborn as sns\n",
    "import matplotlib.pyplot as plt\n",
    "%matplotlib inline\n",
    "sns.set_style('darkgrid')"
   ]
  },
  {
   "cell_type": "code",
   "execution_count": 3,
   "id": "5fc70909",
   "metadata": {},
   "outputs": [],
   "source": [
    "# Import the training data\n",
    "\n",
    "train = pd.read_csv('train.csv')\n",
    "test = pd.read_csv('test.csv')"
   ]
  },
  {
   "cell_type": "code",
   "execution_count": 3,
   "id": "f84d4f61",
   "metadata": {
    "scrolled": true
   },
   "outputs": [
    {
     "data": {
      "text/html": [
       "<div>\n",
       "<style scoped>\n",
       "    .dataframe tbody tr th:only-of-type {\n",
       "        vertical-align: middle;\n",
       "    }\n",
       "\n",
       "    .dataframe tbody tr th {\n",
       "        vertical-align: top;\n",
       "    }\n",
       "\n",
       "    .dataframe thead th {\n",
       "        text-align: right;\n",
       "    }\n",
       "</style>\n",
       "<table border=\"1\" class=\"dataframe\">\n",
       "  <thead>\n",
       "    <tr style=\"text-align: right;\">\n",
       "      <th></th>\n",
       "      <th>PassengerId</th>\n",
       "      <th>HomePlanet</th>\n",
       "      <th>CryoSleep</th>\n",
       "      <th>Cabin</th>\n",
       "      <th>Destination</th>\n",
       "      <th>Age</th>\n",
       "      <th>VIP</th>\n",
       "      <th>RoomService</th>\n",
       "      <th>FoodCourt</th>\n",
       "      <th>ShoppingMall</th>\n",
       "      <th>Spa</th>\n",
       "      <th>VRDeck</th>\n",
       "      <th>Name</th>\n",
       "      <th>Transported</th>\n",
       "    </tr>\n",
       "  </thead>\n",
       "  <tbody>\n",
       "    <tr>\n",
       "      <th>0</th>\n",
       "      <td>0001_01</td>\n",
       "      <td>Europa</td>\n",
       "      <td>False</td>\n",
       "      <td>B/0/P</td>\n",
       "      <td>TRAPPIST-1e</td>\n",
       "      <td>39.0</td>\n",
       "      <td>False</td>\n",
       "      <td>0.0</td>\n",
       "      <td>0.0</td>\n",
       "      <td>0.0</td>\n",
       "      <td>0.0</td>\n",
       "      <td>0.0</td>\n",
       "      <td>Maham Ofracculy</td>\n",
       "      <td>False</td>\n",
       "    </tr>\n",
       "    <tr>\n",
       "      <th>1</th>\n",
       "      <td>0002_01</td>\n",
       "      <td>Earth</td>\n",
       "      <td>False</td>\n",
       "      <td>F/0/S</td>\n",
       "      <td>TRAPPIST-1e</td>\n",
       "      <td>24.0</td>\n",
       "      <td>False</td>\n",
       "      <td>109.0</td>\n",
       "      <td>9.0</td>\n",
       "      <td>25.0</td>\n",
       "      <td>549.0</td>\n",
       "      <td>44.0</td>\n",
       "      <td>Juanna Vines</td>\n",
       "      <td>True</td>\n",
       "    </tr>\n",
       "    <tr>\n",
       "      <th>2</th>\n",
       "      <td>0003_01</td>\n",
       "      <td>Europa</td>\n",
       "      <td>False</td>\n",
       "      <td>A/0/S</td>\n",
       "      <td>TRAPPIST-1e</td>\n",
       "      <td>58.0</td>\n",
       "      <td>True</td>\n",
       "      <td>43.0</td>\n",
       "      <td>3576.0</td>\n",
       "      <td>0.0</td>\n",
       "      <td>6715.0</td>\n",
       "      <td>49.0</td>\n",
       "      <td>Altark Susent</td>\n",
       "      <td>False</td>\n",
       "    </tr>\n",
       "    <tr>\n",
       "      <th>3</th>\n",
       "      <td>0003_02</td>\n",
       "      <td>Europa</td>\n",
       "      <td>False</td>\n",
       "      <td>A/0/S</td>\n",
       "      <td>TRAPPIST-1e</td>\n",
       "      <td>33.0</td>\n",
       "      <td>False</td>\n",
       "      <td>0.0</td>\n",
       "      <td>1283.0</td>\n",
       "      <td>371.0</td>\n",
       "      <td>3329.0</td>\n",
       "      <td>193.0</td>\n",
       "      <td>Solam Susent</td>\n",
       "      <td>False</td>\n",
       "    </tr>\n",
       "    <tr>\n",
       "      <th>4</th>\n",
       "      <td>0004_01</td>\n",
       "      <td>Earth</td>\n",
       "      <td>False</td>\n",
       "      <td>F/1/S</td>\n",
       "      <td>TRAPPIST-1e</td>\n",
       "      <td>16.0</td>\n",
       "      <td>False</td>\n",
       "      <td>303.0</td>\n",
       "      <td>70.0</td>\n",
       "      <td>151.0</td>\n",
       "      <td>565.0</td>\n",
       "      <td>2.0</td>\n",
       "      <td>Willy Santantines</td>\n",
       "      <td>True</td>\n",
       "    </tr>\n",
       "  </tbody>\n",
       "</table>\n",
       "</div>"
      ],
      "text/plain": [
       "  PassengerId HomePlanet CryoSleep  Cabin  Destination   Age    VIP  \\\n",
       "0     0001_01     Europa     False  B/0/P  TRAPPIST-1e  39.0  False   \n",
       "1     0002_01      Earth     False  F/0/S  TRAPPIST-1e  24.0  False   \n",
       "2     0003_01     Europa     False  A/0/S  TRAPPIST-1e  58.0   True   \n",
       "3     0003_02     Europa     False  A/0/S  TRAPPIST-1e  33.0  False   \n",
       "4     0004_01      Earth     False  F/1/S  TRAPPIST-1e  16.0  False   \n",
       "\n",
       "   RoomService  FoodCourt  ShoppingMall     Spa  VRDeck               Name  \\\n",
       "0          0.0        0.0           0.0     0.0     0.0    Maham Ofracculy   \n",
       "1        109.0        9.0          25.0   549.0    44.0       Juanna Vines   \n",
       "2         43.0     3576.0           0.0  6715.0    49.0      Altark Susent   \n",
       "3          0.0     1283.0         371.0  3329.0   193.0       Solam Susent   \n",
       "4        303.0       70.0         151.0   565.0     2.0  Willy Santantines   \n",
       "\n",
       "   Transported  \n",
       "0        False  \n",
       "1         True  \n",
       "2        False  \n",
       "3        False  \n",
       "4         True  "
      ]
     },
     "execution_count": 3,
     "metadata": {},
     "output_type": "execute_result"
    }
   ],
   "source": [
    "# checking the head of the dataframe\n",
    "\n",
    "train.head()"
   ]
  },
  {
   "cell_type": "code",
   "execution_count": 4,
   "id": "d130745e",
   "metadata": {},
   "outputs": [
    {
     "name": "stdout",
     "output_type": "stream",
     "text": [
      "<class 'pandas.core.frame.DataFrame'>\n",
      "RangeIndex: 8693 entries, 0 to 8692\n",
      "Data columns (total 14 columns):\n",
      " #   Column        Non-Null Count  Dtype  \n",
      "---  ------        --------------  -----  \n",
      " 0   PassengerId   8693 non-null   object \n",
      " 1   HomePlanet    8492 non-null   object \n",
      " 2   CryoSleep     8476 non-null   object \n",
      " 3   Cabin         8494 non-null   object \n",
      " 4   Destination   8511 non-null   object \n",
      " 5   Age           8514 non-null   float64\n",
      " 6   VIP           8490 non-null   object \n",
      " 7   RoomService   8512 non-null   float64\n",
      " 8   FoodCourt     8510 non-null   float64\n",
      " 9   ShoppingMall  8485 non-null   float64\n",
      " 10  Spa           8510 non-null   float64\n",
      " 11  VRDeck        8505 non-null   float64\n",
      " 12  Name          8493 non-null   object \n",
      " 13  Transported   8693 non-null   bool   \n",
      "dtypes: bool(1), float64(6), object(7)\n",
      "memory usage: 891.5+ KB\n"
     ]
    }
   ],
   "source": [
    "# A brief summary of the data\n",
    "train.info()"
   ]
  },
  {
   "cell_type": "code",
   "execution_count": 4,
   "id": "8d4c07e7",
   "metadata": {
    "scrolled": true
   },
   "outputs": [],
   "source": [
    "# checking for missing values in the training data\n",
    "#sns.heatmap(train.isnull(), yticklabels=False, cbar=False, cmap='viridis')"
   ]
  },
  {
   "cell_type": "code",
   "execution_count": 6,
   "id": "1b382058",
   "metadata": {},
   "outputs": [],
   "source": [
    "#sns.heatmap(test.isnull(), yticklabels=False, cbar=False, cmap='viridis')"
   ]
  },
  {
   "cell_type": "code",
   "execution_count": 4,
   "id": "08e10d6f",
   "metadata": {},
   "outputs": [],
   "source": [
    "# Creating a function that fill in null values\n",
    "\n",
    "def fillMissing(data):\n",
    "    data['Spa'] = data['Spa'].fillna(0)\n",
    "    data['RoomService'] = data['RoomService'].fillna(0)\n",
    "    data['VRDeck'] = data['VRDeck'].fillna(0)\n",
    "    data['FoodCourt'] = data['FoodCourt'].fillna(0)\n",
    "    data['ShoppingMall'] = data['ShoppingMall'].fillna(0)\n",
    "    data['HomePlanet'] = data['HomePlanet'].fillna(data['HomePlanet'].mode()[0])\n",
    "    data['Cabin'] = data['Cabin'].fillna(data['Cabin'].mode()[0])\n",
    "    data['CryoSleep'] = data['CryoSleep'].fillna(data['CryoSleep'].mode()[0])\n",
    "    data['Destination'] = data['Destination'].fillna(data['Destination'].mode()[0])\n",
    "    data['VIP'] = data['VIP'].fillna(data['VIP'].mode()[0])\n",
    "    data['Age'] = data['Age'].fillna(data['Age'].mean())\n",
    "    data.drop(['Name'], axis=1, inplace=True)\n",
    "    data.drop(['PassengerId'], axis=1, inplace=True)\n",
    "    data.drop(['Cabin'], axis=1, inplace=True)"
   ]
  },
  {
   "cell_type": "code",
   "execution_count": 5,
   "id": "5dffe9f6",
   "metadata": {},
   "outputs": [],
   "source": [
    "# Using the function to fill the missing train and test data\n",
    "fillMissing(train)\n",
    "fillMissing(test)"
   ]
  },
  {
   "cell_type": "code",
   "execution_count": 6,
   "id": "a186d5cd",
   "metadata": {},
   "outputs": [],
   "source": [
    "# Creating a function that one-hot my categorical columns\n",
    "mylist = ['VIP','CryoSleep']\n",
    "def OneHot(data):\n",
    "    for l in mylist:\n",
    "        catg = data[l].astype('category')\n",
    "        c = catg.values\n",
    "        data[l] = c.codes"
   ]
  },
  {
   "cell_type": "code",
   "execution_count": null,
   "id": "a31bf2f2",
   "metadata": {},
   "outputs": [],
   "source": [
    "# Applying the function on my train and test data\n",
    "OneHot(train)\n",
    "OneHot(test)"
   ]
  },
  {
   "cell_type": "code",
   "execution_count": 7,
   "id": "32edf60d",
   "metadata": {},
   "outputs": [],
   "source": [
    "# Creating one-hot for my Transported column\n",
    "catg = train['Transported'].astype('category')\n",
    "c = catg.values\n",
    "train['Transported'] = c.codes"
   ]
  },
  {
   "cell_type": "code",
   "execution_count": 8,
   "id": "223ccc44",
   "metadata": {},
   "outputs": [],
   "source": [
    "# Get dummies for the other categorical columns in the training data\n",
    "home = pd.get_dummies(train['HomePlanet'], drop_first=True)\n",
    "destination = pd.get_dummies(train['Destination'], drop_first=True)\n",
    "\n",
    "train = pd.concat([train, home, destination], axis=1)\n",
    "train.drop(['HomePlanet', 'Destination'], axis=1, inplace=True)"
   ]
  },
  {
   "cell_type": "code",
   "execution_count": 10,
   "id": "2a04195f",
   "metadata": {},
   "outputs": [],
   "source": [
    "# Get dummies for the other categorical columns in the test data\n",
    "home = pd.get_dummies(test['HomePlanet'], drop_first=True)\n",
    "destination = pd.get_dummies(test['Destination'], drop_first=True)\n",
    "\n",
    "test = pd.concat([test, home, destination], axis=1)\n",
    "test.drop(['HomePlanet', 'Destination'], axis=1, inplace=True)"
   ]
  },
  {
   "cell_type": "code",
   "execution_count": 11,
   "id": "b7bc925a",
   "metadata": {
    "scrolled": true
   },
   "outputs": [],
   "source": [
    "# Adding the total amount spent into a new column called Bills\n",
    "train['Bills'] = train['Spa'] + train['RoomService'] + train['VRDeck'] + train['FoodCourt'] + train['ShoppingMall']\n",
    "test['Bills'] = test['Spa'] + test['RoomService'] + test['VRDeck'] + test['FoodCourt'] + test['ShoppingMall']"
   ]
  },
  {
   "cell_type": "code",
   "execution_count": 12,
   "id": "9b9b55a2",
   "metadata": {},
   "outputs": [],
   "source": [
    "# Droping the spa, roomservice, vrdeck, foodcourt and shoppingMall column\n",
    "train.drop(['Spa', 'RoomService', 'VRDeck', 'FoodCourt', 'ShoppingMall'],\n",
    "           axis=1,inplace=True)\n",
    "test.drop(['Spa', 'RoomService', 'VRDeck', 'FoodCourt', 'ShoppingMall'],\n",
    "          axis=1,inplace=True)"
   ]
  },
  {
   "cell_type": "code",
   "execution_count": 93,
   "id": "5f8050d1",
   "metadata": {},
   "outputs": [],
   "source": [
    "# Splitting the data into feature and label\n",
    "X = train.drop(['Transported'],axis=1)  # feature\n",
    "y = train['Transported']                # label"
   ]
  },
  {
   "cell_type": "code",
   "execution_count": 51,
   "id": "17f54ff0",
   "metadata": {},
   "outputs": [],
   "source": [
    "from sklearn.preprocessing import StandardScaler\n",
    "\n",
    "scaler = StandardScaler()\n",
    "scaled_X = scaler.fit_(X)"
   ]
  },
  {
   "cell_type": "code",
   "execution_count": null,
   "id": "e1ca0438",
   "metadata": {},
   "outputs": [],
   "source": [
    "# Using RandomForestClassifier to extract the feature importance\n",
    "rnd_clf = RandomForestClassifier(n_estimators=500, n_jobs=-1)\n",
    "rnd_clf.fit(X_train, y_train)\n",
    "for name, score in zip(X_train.columns, rnd_clf.feature_importances_):\n",
    "    print(name, score)"
   ]
  },
  {
   "cell_type": "code",
   "execution_count": 94,
   "id": "138fd9d9",
   "metadata": {},
   "outputs": [],
   "source": [
    "# Splitting the training data into training and validation set\n",
    "from sklearn.model_selection import train_test_split\n",
    "\n",
    "X_train, X_val, y_train, y_val = train_test_split(X, y)"
   ]
  },
  {
   "cell_type": "code",
   "execution_count": 47,
   "id": "c22c5d40",
   "metadata": {},
   "outputs": [],
   "source": [
    "from sklearn.metrics import precision_score"
   ]
  },
  {
   "cell_type": "code",
   "execution_count": 48,
   "id": "b7d82af8",
   "metadata": {},
   "outputs": [
    {
     "name": "stdout",
     "output_type": "stream",
     "text": [
      "acc : 0.7263109475620975 precision : 0.6328545780969479\n"
     ]
    }
   ],
   "source": [
    "# Training the model using LogisticRegression \n",
    "from sklearn.linear_model import LogisticRegression\n",
    "from sklearn.metrics import accuracy_score\n",
    "\n",
    "log_reg = LogisticRegression()\n",
    "log_reg.fit(X_train, y_train)\n",
    "\n",
    "log_pred = log_reg.predict(X_val)\n",
    "\n",
    "log_acc = accuracy_score(log_pred,y_val)\n",
    "log_pre = precision_score(log_pred,y_val)\n",
    "print('acc :',log_acc ,'precision :',log_pre)"
   ]
  },
  {
   "cell_type": "code",
   "execution_count": 49,
   "id": "47f1d6e7",
   "metadata": {
    "scrolled": true
   },
   "outputs": [
    {
     "name": "stdout",
     "output_type": "stream",
     "text": [
      "0.7419503219871205 0.6373429084380611\n"
     ]
    }
   ],
   "source": [
    "# Training the model using the RandomForestClassifier\n",
    "\n",
    "from sklearn.ensemble import RandomForestClassifier\n",
    "\n",
    "rfc = RandomForestClassifier(max_depth=8, max_features=2, n_estimators=50)\n",
    "rfc.fit(X_train, y_train)\n",
    "\n",
    "rfc_pred = rfc.predict(X_val)\n",
    "\n",
    "rfc_acc = accuracy_score(rfc_pred,y_val)\n",
    "rfc_pre = precision_score(rfc_pred,y_val)\n",
    "print(rfc_acc, rfc_pre)"
   ]
  },
  {
   "cell_type": "code",
   "execution_count": 50,
   "id": "1e786e45",
   "metadata": {},
   "outputs": [
    {
     "name": "stdout",
     "output_type": "stream",
     "text": [
      "LogisticRegression : 0.7387304507819688\n",
      "SVC : 0.7364305427782889\n",
      "RandomForestClassifier : 0.7382704691812327\n",
      "VotingClassifier : 0.7387304507819688\n"
     ]
    }
   ],
   "source": [
    "# Training the model using an ensemble method\n",
    "\n",
    "from sklearn.ensemble import VotingClassifier\n",
    "from sklearn.svm import SVC\n",
    "from sklearn.tree import DecisionTreeClassifier\n",
    "\n",
    "log_reg = LogisticRegression(C=0.001)\n",
    "svc_clf = SVC()\n",
    "rfc_clf = RandomForestClassifier(max_depth=8, max_features=4, n_estimators=30)\n",
    "#tree_clf = DecisionTreeClassifier()\n",
    "\n",
    "voting_clf = VotingClassifier(\n",
    "            estimators=[('lr',log_reg), ('sv',svc_clf),\n",
    "                        ('rf',rfc_clf)],\n",
    "            voting='hard')\n",
    "voting_clf.fit(X_train, y_train)\n",
    "\n",
    "for clf in (log_reg, svc_clf, rfc_clf,voting_clf):\n",
    "    clf.fit(X_train,y_train)\n",
    "    pred = clf.predict(X_val)\n",
    "    print(clf.__class__.__name__,':',accuracy_score(pred, y_val))"
   ]
  },
  {
   "cell_type": "code",
   "execution_count": 90,
   "id": "4f702ef2",
   "metadata": {},
   "outputs": [
    {
     "data": {
      "text/plain": [
       "LogisticRegression(C=0.001)"
      ]
     },
     "execution_count": 90,
     "metadata": {},
     "output_type": "execute_result"
    }
   ],
   "source": [
    "# Using GridSearchCV for hyperparameter tuning\n",
    "from sklearn.model_selection import GridSearchCV\n",
    "\n",
    "log_param = {'C':[0.001,0.01,0.1,1,10,100]}\n",
    "\n",
    "grid = GridSearchCV(log_reg, log_param, cv=5)\n",
    "grid.fit(X_train, y_train)\n",
    "\n",
    "grid.best_estimator_"
   ]
  },
  {
   "cell_type": "code",
   "execution_count": 84,
   "id": "db47a043",
   "metadata": {},
   "outputs": [
    {
     "data": {
      "text/plain": [
       "RandomForestClassifier(max_depth=8, max_features=4, n_estimators=30)"
      ]
     },
     "execution_count": 84,
     "metadata": {},
     "output_type": "execute_result"
    }
   ],
   "source": [
    "# Tuning the RandomForestClassifier\n",
    "param_grid = {'n_estimators': [3, 10, 30,50,100,200], \n",
    "              'max_features': [2, 4, 6, 8],\n",
    "              'max_depth':[2,4,8,16,None]}\n",
    "\n",
    "rf_grid = GridSearchCV(rfc_clf, param_grid, cv=5)\n",
    "rf_grid.fit(X_train, y_train)\n",
    "rf_grid.best_estimator_"
   ]
  },
  {
   "cell_type": "code",
   "execution_count": 59,
   "id": "e0c66b67",
   "metadata": {},
   "outputs": [
    {
     "data": {
      "text/plain": [
       "DecisionTreeClassifier(max_depth=5, max_features=4)"
      ]
     },
     "execution_count": 59,
     "metadata": {},
     "output_type": "execute_result"
    }
   ],
   "source": [
    "# Tuning the DecisionTreeClassifer\n",
    "tree_param = {'max_depth':[2,3,4,5], 'max_features':[2,4,6]}\n",
    "\n",
    "tree_grid = GridSearchCV(tree_clf, tree_param, cv=5)\n",
    "tree_grid.fit(X_train, y_train)\n",
    "tree_grid.best_estimator_"
   ]
  },
  {
   "cell_type": "code",
   "execution_count": 100,
   "id": "acebdd59",
   "metadata": {},
   "outputs": [],
   "source": [
    "# Importing the test data for prediction\n",
    "t = pd.read_csv('test.csv')"
   ]
  },
  {
   "cell_type": "code",
   "execution_count": 97,
   "id": "7790431b",
   "metadata": {},
   "outputs": [],
   "source": [
    "# I decided to use the RandomForestClassifer since it has the highest validation accuracy\n",
    "rnf_clf  = RandomForestClassifier(max_depth=8, max_features=4, n_estimators=30)\n",
    "rnf_clf.fit(X, y)\n",
    "pred = rnf_clf.predict(test)"
   ]
  },
  {
   "cell_type": "code",
   "execution_count": 98,
   "id": "d938db9c",
   "metadata": {},
   "outputs": [],
   "source": [
    "# Importing the sample data\n",
    "sample = pd.read_csv('sample_submission.csv')"
   ]
  },
  {
   "cell_type": "code",
   "execution_count": 102,
   "id": "c50c7afd",
   "metadata": {},
   "outputs": [],
   "source": [
    "passengerId = t[['PassengerId']]"
   ]
  },
  {
   "cell_type": "code",
   "execution_count": 107,
   "id": "47cf72d4",
   "metadata": {
    "scrolled": true
   },
   "outputs": [],
   "source": [
    "# Storing my predicted value into thisList. 1 represent True and 0 reps False\n",
    "thisList = []\n",
    "for val in pred:\n",
    "    if val == 1:\n",
    "        thisList.append(True)\n",
    "    else:\n",
    "        thisList.append(False)"
   ]
  },
  {
   "cell_type": "code",
   "execution_count": 111,
   "id": "22f00822",
   "metadata": {},
   "outputs": [],
   "source": [
    "transported = pd.DataFrame(thisList,columns=['Transported'])"
   ]
  },
  {
   "cell_type": "code",
   "execution_count": 113,
   "id": "7fd4455f",
   "metadata": {},
   "outputs": [],
   "source": [
    "submission = pd.concat([passengerId, transported],axis=1)"
   ]
  },
  {
   "cell_type": "code",
   "execution_count": 120,
   "id": "082f98fe",
   "metadata": {},
   "outputs": [],
   "source": [
    "submission.to_csv('my_submission.csv',index=False)"
   ]
  },
  {
   "cell_type": "code",
   "execution_count": 121,
   "id": "24360177",
   "metadata": {},
   "outputs": [],
   "source": [
    "sub = pd.read_csv('my_submission.csv')"
   ]
  },
  {
   "cell_type": "code",
   "execution_count": 1,
   "id": "f2bba0bb",
   "metadata": {},
   "outputs": [],
   "source": [
    "#sub"
   ]
  },
  {
   "cell_type": "code",
   "execution_count": null,
   "id": "1ea23475",
   "metadata": {},
   "outputs": [],
   "source": []
  }
 ],
 "metadata": {
  "kernelspec": {
   "display_name": "Python 3 (ipykernel)",
   "language": "python",
   "name": "python3"
  },
  "language_info": {
   "codemirror_mode": {
    "name": "ipython",
    "version": 3
   },
   "file_extension": ".py",
   "mimetype": "text/x-python",
   "name": "python",
   "nbconvert_exporter": "python",
   "pygments_lexer": "ipython3",
   "version": "3.9.7"
  }
 },
 "nbformat": 4,
 "nbformat_minor": 5
}
